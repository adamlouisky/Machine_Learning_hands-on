{
 "cells": [
  {
   "cell_type": "code",
   "execution_count": 7,
   "metadata": {},
   "outputs": [],
   "source": [
    "from __future__ import absolute_import, division, print_function\n",
    "import tensorflow as tf"
   ]
  },
  {
   "cell_type": "code",
   "execution_count": 8,
   "metadata": {},
   "outputs": [],
   "source": [
    "mnist = tf.keras.datasets.mnist\n",
    "\n",
    "(x_train, y_train), (x_test, y_test) = mnist.load_data()\n",
    "x_train, x_test = x_train / 255.0, x_test / 255.0"
   ]
  },
  {
   "cell_type": "code",
   "execution_count": 9,
   "metadata": {},
   "outputs": [],
   "source": [
    "model = tf.keras.models.Sequential([\n",
    "  tf.keras.layers.Flatten(input_shape=(28, 28)),\n",
    "  tf.keras.layers.Dense(512, activation=tf.nn.relu),\n",
    "  tf.keras.layers.Dropout(0.2),\n",
    "  tf.keras.layers.Dense(10, activation=tf.nn.softmax)\n",
    "])\n",
    "\n",
    "model.compile(optimizer='adam',\n",
    "              loss='sparse_categorical_crossentropy',\n",
    "              metrics=['accuracy'])"
   ]
  },
  {
   "cell_type": "code",
   "execution_count": 10,
   "metadata": {},
   "outputs": [
    {
     "name": "stdout",
     "output_type": "stream",
     "text": [
      "Epoch 1/8\n",
      "60000/60000 [==============================] - 38s 629us/sample - loss: 0.2212 - acc: 0.9353 - loss: 0.2278 - acc: 0.\n",
      "Epoch 2/8\n",
      "60000/60000 [==============================] - 33s 555us/sample - loss: 0.0988 - acc: 0.9701\n",
      "Epoch 3/8\n",
      "60000/60000 [==============================] - 34s 563us/sample - loss: 0.0688 - acc: 0.9785\n",
      "Epoch 4/8\n",
      "60000/60000 [==============================] - 34s 565us/sample - loss: 0.0536 - acc: 0.9830\n",
      "Epoch 5/8\n",
      "60000/60000 [==============================] - 34s 569us/sample - loss: 0.0430 - acc: 0.9857\n",
      "Epoch 6/8\n",
      "60000/60000 [==============================] - 156s 3ms/sample - loss: 0.0376 - acc: 0.9877\n",
      "Epoch 7/8\n",
      "60000/60000 [==============================] - 28s 461us/sample - loss: 0.0324 - acc: 0.9889\n",
      "Epoch 8/8\n",
      "60000/60000 [==============================] - 27s 452us/sample - loss: 0.0268 - acc: 0.9911\n",
      "10000/10000 [==============================] - 1s 108us/sample - loss: 0.0653 - acc: 0.9810\n"
     ]
    },
    {
     "data": {
      "text/plain": [
       "[0.0652537810594411, 0.981]"
      ]
     },
     "execution_count": 10,
     "metadata": {},
     "output_type": "execute_result"
    }
   ],
   "source": [
    "model.fit(x_train, y_train, epochs=8)\n",
    "\n",
    "model.evaluate(x_test, y_test)"
   ]
  },
  {
   "cell_type": "markdown",
   "metadata": {},
   "source": [
    "# 从下载的MNIST数据集中读取标签和图片"
   ]
  },
  {
   "cell_type": "code",
   "execution_count": null,
   "metadata": {},
   "outputs": [
    {
     "name": "stdout",
     "output_type": "stream",
     "text": [
      "5\n",
      "0\n",
      "4\n",
      "1\n",
      "9\n",
      "2\n",
      "1\n",
      "3\n"
     ]
    }
   ],
   "source": [
    "from PIL import Image\n",
    "import numpy as np\n",
    "\n",
    "path=\"C:/Users/dell/Downloads/mnist.npz\"\n",
    "data=np.load(path)\n",
    "x_train=data[\"x_train\"]\n",
    "y_train=data[\"y_train\"]\n",
    "for i in range(15):\n",
    "    print(y_train[i])\n",
    "    im = Image.fromarray(x_train[i])\n",
    "    im.show()"
   ]
  },
  {
   "cell_type": "markdown",
   "metadata": {},
   "source": [
    "从下载的MNIST文件中读取标签与图片"
   ]
  },
  {
   "cell_type": "code",
   "execution_count": 2,
   "metadata": {},
   "outputs": [
    {
     "ename": "SyntaxError",
     "evalue": "invalid character in identifier (<ipython-input-2-6de0358f6785>, line 8)",
     "output_type": "error",
     "traceback": [
      "\u001b[1;36m  File \u001b[1;32m\"<ipython-input-2-6de0358f6785>\"\u001b[1;36m, line \u001b[1;32m8\u001b[0m\n\u001b[1;33m    new_im = Image.fromarray(x_train[i,:,:])\u001b[0m\n\u001b[1;37m    ^\u001b[0m\n\u001b[1;31mSyntaxError\u001b[0m\u001b[1;31m:\u001b[0m invalid character in identifier\n"
     ]
    }
   ],
   "source": [
    "\n"
   ]
  },
  {
   "cell_type": "code",
   "execution_count": null,
   "metadata": {},
   "outputs": [],
   "source": []
  }
 ],
 "metadata": {
  "kernelspec": {
   "display_name": "Python 3",
   "language": "python",
   "name": "python3"
  },
  "language_info": {
   "codemirror_mode": {
    "name": "ipython",
    "version": 3
   },
   "file_extension": ".py",
   "mimetype": "text/x-python",
   "name": "python",
   "nbconvert_exporter": "python",
   "pygments_lexer": "ipython3",
   "version": "3.7.1"
  }
 },
 "nbformat": 4,
 "nbformat_minor": 2
}
